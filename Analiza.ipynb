{
 "cells": [
  {
   "cell_type": "markdown",
   "metadata": {},
   "source": [
    "# ANALIZA ŠTUDENSTKEGA DELA"
   ]
  },
  {
   "cell_type": "markdown",
   "metadata": {},
   "source": [
    "#### Avtor: Jan Šifrer"
   ]
  },
  {
   "attachments": {
    "slika.jpg": {
     "image/jpeg": "[encoded data removed]"
    }
   },
   "cell_type": "markdown",
   "metadata": {},
   "source": [
    "Za projektno nalogo sem si izbral analizo študenskega dela. Vse potrebne podatke za to sem dobil na spletni strani https://www.studentski-servis.com/studenti. Moj cilj je, da pokažem kje se najbolje splača delati šudentom - torej v katerih mestih, za katera dela dobivajo najvišijo plačo in predvsem kako sta vrsta dela ter delavnik odvisna od plačila. \n",
    "\n",
    "![slika.jpg](attachment:slika.jpg)\n",
    "\n"
   ]
  },
  {
   "cell_type": "markdown",
   "metadata": {},
   "source": [
    "Najprej naložimo pakete:"
   ]
  },
  {
   "cell_type": "code",
   "execution_count": 351,
   "metadata": {},
   "outputs": [],
   "source": [
    "import pandas as pd\n",
    "import numpy as ny\n",
    "\n",
    "\n",
    "#Nastavil sem, da izpiše samo 10 vrstic, zato da lažje delam\n",
    "# pd.options.display.max_rows = 20"
   ]
  },
  {
   "cell_type": "markdown",
   "metadata": {},
   "source": [
    "Nastavimo stil risanja:"
   ]
  },
  {
   "cell_type": "code",
   "execution_count": 99,
   "metadata": {},
   "outputs": [],
   "source": [
    "%matplotlib inline"
   ]
  },
  {
   "cell_type": "markdown",
   "metadata": {},
   "source": [
    "Naložimo še podatke s katere bomo preučevali:"
   ]
  },
  {
   "cell_type": "code",
   "execution_count": 100,
   "metadata": {},
   "outputs": [],
   "source": [
    "podatki = pd.read_csv(\"prosta_dela1.csv\")"
   ]
  },
  {
   "cell_type": "markdown",
   "metadata": {},
   "source": [
    "LA"
   ]
  },
  {
   "cell_type": "code",
   "execution_count": 101,
   "metadata": {},
   "outputs": [
    {
     "data": {
      "text/html": [
       "<div>\n",
       "<style scoped>\n",
       "    .dataframe tbody tr th:only-of-type {\n",
       "        vertical-align: middle;\n",
       "    }\n",
       "\n",
       "    .dataframe tbody tr th {\n",
       "        vertical-align: top;\n",
       "    }\n",
       "\n",
       "    .dataframe thead th {\n",
       "        text-align: right;\n",
       "    }\n",
       "</style>\n",
       "<table border=\"1\" class=\"dataframe\">\n",
       "  <thead>\n",
       "    <tr style=\"text-align: right;\">\n",
       "      <th></th>\n",
       "      <th>naslov</th>\n",
       "      <th>podnaslov</th>\n",
       "      <th>neto_placa</th>\n",
       "      <th>bruto_placa</th>\n",
       "      <th>lokacija</th>\n",
       "      <th>opis</th>\n",
       "      <th>stevilo_mest</th>\n",
       "      <th>trajanje</th>\n",
       "      <th>delovnik</th>\n",
       "      <th>sifra</th>\n",
       "      <th>narava_dela</th>\n",
       "    </tr>\n",
       "  </thead>\n",
       "  <tbody>\n",
       "    <tr>\n",
       "      <th>0</th>\n",
       "      <td>PROGRAMIRANJE</td>\n",
       "      <td>NaN</td>\n",
       "      <td>7,60 €/h neto</td>\n",
       "      <td>9,00 €/h bruto</td>\n",
       "      <td>MARIBOR</td>\n",
       "      <td>Razvoj programske opreme na strani strežnika. ...</td>\n",
       "      <td>1</td>\n",
       "      <td>DLJE ČASA (OBČASNO)</td>\n",
       "      <td>Po dogovoru</td>\n",
       "      <td>308948</td>\n",
       "      <td>začasno in občasno delo</td>\n",
       "    </tr>\n",
       "    <tr>\n",
       "      <th>1</th>\n",
       "      <td>DELJENJE LETAKOV</td>\n",
       "      <td>NaN</td>\n",
       "      <td>4,13 €/h neto</td>\n",
       "      <td>4,89 €/h bruto</td>\n",
       "      <td>LJUBLJANA RUDNIK</td>\n",
       "      <td>Deljenje letakov v okolici trgovine. Delovni č...</td>\n",
       "      <td>2</td>\n",
       "      <td>1 TEDEN</td>\n",
       "      <td>Po dogovoru</td>\n",
       "      <td>308947</td>\n",
       "      <td>NaN</td>\n",
       "    </tr>\n",
       "    <tr>\n",
       "      <th>2</th>\n",
       "      <td>PRODAJA</td>\n",
       "      <td>NaN</td>\n",
       "      <td>5,50 €/h neto</td>\n",
       "      <td>6,51 €/h bruto</td>\n",
       "      <td>LJUBLJANA</td>\n",
       "      <td>Prodaja v čokoladnici v stari Ljubljani. Podje...</td>\n",
       "      <td>1</td>\n",
       "      <td>DLJE ČASA (OBČASNO), PO DOGOVORU</td>\n",
       "      <td>Izmensko</td>\n",
       "      <td>308946</td>\n",
       "      <td>začasno in občasno delo</td>\n",
       "    </tr>\n",
       "    <tr>\n",
       "      <th>3</th>\n",
       "      <td>POMOČ UPORABNIKOM</td>\n",
       "      <td>NaN</td>\n",
       "      <td>5,00 €/h neto</td>\n",
       "      <td>5,92 €/h bruto</td>\n",
       "      <td>LJUBLJANA CENTER</td>\n",
       "      <td>Mlado in energično mednarodno podjetje išče os...</td>\n",
       "      <td>1</td>\n",
       "      <td>DLJE ČASA (OBČASNO)</td>\n",
       "      <td>Izmensko</td>\n",
       "      <td>308945</td>\n",
       "      <td>začasno in občasno delo</td>\n",
       "    </tr>\n",
       "    <tr>\n",
       "      <th>4</th>\n",
       "      <td>BLAGAJNIK</td>\n",
       "      <td>NaN</td>\n",
       "      <td>4,13 €/h neto</td>\n",
       "      <td>4,89 €/h bruto</td>\n",
       "      <td>KRANJ</td>\n",
       "      <td>Podjetje išče polnoletne, komunikativne in sam...</td>\n",
       "      <td>4</td>\n",
       "      <td>DLJE ČASA (OBČASNO)</td>\n",
       "      <td>Popoldan</td>\n",
       "      <td>308944</td>\n",
       "      <td>začasno in občasno delo</td>\n",
       "    </tr>\n",
       "    <tr>\n",
       "      <th>...</th>\n",
       "      <td>...</td>\n",
       "      <td>...</td>\n",
       "      <td>...</td>\n",
       "      <td>...</td>\n",
       "      <td>...</td>\n",
       "      <td>...</td>\n",
       "      <td>...</td>\n",
       "      <td>...</td>\n",
       "      <td>...</td>\n",
       "      <td>...</td>\n",
       "      <td>...</td>\n",
       "    </tr>\n",
       "    <tr>\n",
       "      <th>3012</th>\n",
       "      <td>STREŽBA</td>\n",
       "      <td>NaN</td>\n",
       "      <td>4,22 €/h neto</td>\n",
       "      <td>5,00 €/h bruto</td>\n",
       "      <td>KRANJ</td>\n",
       "      <td>Strežba v piceriji. Pogoji: starost nad 17 let...</td>\n",
       "      <td>1</td>\n",
       "      <td>PO DOGOVORU</td>\n",
       "      <td>Po dogovoru</td>\n",
       "      <td>239844</td>\n",
       "      <td>začasno in občasno delo</td>\n",
       "    </tr>\n",
       "    <tr>\n",
       "      <th>3013</th>\n",
       "      <td>STREŽBA</td>\n",
       "      <td>NaN</td>\n",
       "      <td>PO DOGOVORU</td>\n",
       "      <td>NaN</td>\n",
       "      <td>SEVNICA</td>\n",
       "      <td>Zavod potrebuje več polnoletnih oseb za strežb...</td>\n",
       "      <td>3</td>\n",
       "      <td>PO DOGOVORU</td>\n",
       "      <td>Izmensko</td>\n",
       "      <td>239563</td>\n",
       "      <td>začasno in občasno delo</td>\n",
       "    </tr>\n",
       "    <tr>\n",
       "      <th>3014</th>\n",
       "      <td>PROGRAMIRANJE</td>\n",
       "      <td>NaN</td>\n",
       "      <td>PO DOGOVORU</td>\n",
       "      <td>NaN</td>\n",
       "      <td>LJUBLJANA BEŽIGRAD</td>\n",
       "      <td>Delo obsega programiranje WEB aplikacij. Potre...</td>\n",
       "      <td>2</td>\n",
       "      <td>DLJE ČASA (OBČASNO)</td>\n",
       "      <td>Dopoldan</td>\n",
       "      <td>236397</td>\n",
       "      <td>začasno in občasno delo</td>\n",
       "    </tr>\n",
       "    <tr>\n",
       "      <th>3015</th>\n",
       "      <td>STREŽBA</td>\n",
       "      <td>NaN</td>\n",
       "      <td>5,00 €/h neto</td>\n",
       "      <td>5,92 €/h bruto</td>\n",
       "      <td>LJUBLJANA</td>\n",
       "      <td>Iščejo polnoletno, prijazno, pošteno in urejen...</td>\n",
       "      <td>2</td>\n",
       "      <td>PO DOGOVORU</td>\n",
       "      <td>Izmensko</td>\n",
       "      <td>234805</td>\n",
       "      <td>začasno in občasno delo</td>\n",
       "    </tr>\n",
       "    <tr>\n",
       "      <th>3016</th>\n",
       "      <td>PROGRAMIRANJE</td>\n",
       "      <td>NaN</td>\n",
       "      <td>7,61 €/h neto</td>\n",
       "      <td>9,00 €/h bruto</td>\n",
       "      <td>LJUBLJANA</td>\n",
       "      <td>Iščejo Java programerje, ki bodo sodelovali z ...</td>\n",
       "      <td>3</td>\n",
       "      <td>PO DOGOVORU, DLJE ČASA</td>\n",
       "      <td>vseeno</td>\n",
       "      <td>225091</td>\n",
       "      <td>začasno in občasno delo</td>\n",
       "    </tr>\n",
       "  </tbody>\n",
       "</table>\n",
       "<p>3017 rows × 11 columns</p>\n",
       "</div>"
      ],
      "text/plain": [
       "                 naslov podnaslov     neto_placa     bruto_placa  \\\n",
       "0         PROGRAMIRANJE       NaN  7,60 €/h neto  9,00 €/h bruto   \n",
       "1      DELJENJE LETAKOV       NaN  4,13 €/h neto  4,89 €/h bruto   \n",
       "2               PRODAJA       NaN  5,50 €/h neto  6,51 €/h bruto   \n",
       "3     POMOČ UPORABNIKOM       NaN  5,00 €/h neto  5,92 €/h bruto   \n",
       "4             BLAGAJNIK       NaN  4,13 €/h neto  4,89 €/h bruto   \n",
       "...                 ...       ...            ...             ...   \n",
       "3012            STREŽBA       NaN  4,22 €/h neto  5,00 €/h bruto   \n",
       "3013            STREŽBA       NaN    PO DOGOVORU             NaN   \n",
       "3014      PROGRAMIRANJE       NaN    PO DOGOVORU             NaN   \n",
       "3015            STREŽBA       NaN  5,00 €/h neto  5,92 €/h bruto   \n",
       "3016      PROGRAMIRANJE       NaN  7,61 €/h neto  9,00 €/h bruto   \n",
       "\n",
       "                lokacija                                               opis  \\\n",
       "0                MARIBOR  Razvoj programske opreme na strani strežnika. ...   \n",
       "1       LJUBLJANA RUDNIK  Deljenje letakov v okolici trgovine. Delovni č...   \n",
       "2              LJUBLJANA  Prodaja v čokoladnici v stari Ljubljani. Podje...   \n",
       "3       LJUBLJANA CENTER  Mlado in energično mednarodno podjetje išče os...   \n",
       "4                  KRANJ  Podjetje išče polnoletne, komunikativne in sam...   \n",
       "...                  ...                                                ...   \n",
       "3012               KRANJ  Strežba v piceriji. Pogoji: starost nad 17 let...   \n",
       "3013             SEVNICA  Zavod potrebuje več polnoletnih oseb za strežb...   \n",
       "3014  LJUBLJANA BEŽIGRAD  Delo obsega programiranje WEB aplikacij. Potre...   \n",
       "3015           LJUBLJANA  Iščejo polnoletno, prijazno, pošteno in urejen...   \n",
       "3016           LJUBLJANA  Iščejo Java programerje, ki bodo sodelovali z ...   \n",
       "\n",
       "      stevilo_mest                            trajanje      delovnik   sifra  \\\n",
       "0                1                DLJE ČASA (OBČASNO)    Po dogovoru  308948   \n",
       "1                2                            1 TEDEN    Po dogovoru  308947   \n",
       "2                1   DLJE ČASA (OBČASNO), PO DOGOVORU       Izmensko  308946   \n",
       "3                1                DLJE ČASA (OBČASNO)       Izmensko  308945   \n",
       "4                4                DLJE ČASA (OBČASNO)       Popoldan  308944   \n",
       "...            ...                                 ...           ...     ...   \n",
       "3012             1                        PO DOGOVORU    Po dogovoru  239844   \n",
       "3013             3                        PO DOGOVORU       Izmensko  239563   \n",
       "3014             2                DLJE ČASA (OBČASNO)       Dopoldan  236397   \n",
       "3015             2                        PO DOGOVORU       Izmensko  234805   \n",
       "3016             3             PO DOGOVORU, DLJE ČASA         vseeno  225091   \n",
       "\n",
       "                   narava_dela  \n",
       "0      začasno in občasno delo  \n",
       "1                          NaN  \n",
       "2      začasno in občasno delo  \n",
       "3      začasno in občasno delo  \n",
       "4      začasno in občasno delo  \n",
       "...                        ...  \n",
       "3012   začasno in občasno delo  \n",
       "3013   začasno in občasno delo  \n",
       "3014   začasno in občasno delo  \n",
       "3015   začasno in občasno delo  \n",
       "3016   začasno in občasno delo  \n",
       "\n",
       "[3017 rows x 11 columns]"
      ]
     },
     "execution_count": 101,
     "metadata": {},
     "output_type": "execute_result"
    }
   ],
   "source": [
    "podatki"
   ]
  },
  {
   "cell_type": "markdown",
   "metadata": {},
   "source": [
    "V tem razdelku tukaj bomo defnirali funkcije, katere bomo uporabljali za lažjo vizualizacijo podatkov."
   ]
  },
  {
   "cell_type": "code",
   "execution_count": 341,
   "metadata": {},
   "outputs": [],
   "source": [
    "def boljsa_lokacija(x):\n",
    "    razbitje = x.split()\n",
    "    if len(razbitje) > 1:\n",
    "        if \"BLED\" in razbitje:\n",
    "            return \"BLED\"\n",
    "        if \"BLED,\" in razbitje:\n",
    "            return \"BLED\"\n",
    "        if \"BOHINJ,\" in razbitje:\n",
    "            return \"BOHINJ\"\n",
    "        if \"BOROVNICA\" in razbitje:\n",
    "            return \"BOROVNICA\"\n",
    "        if \"CELJE\" in razbitje:\n",
    "            return \"CELJE\"\n",
    "        if \"DOMŽALE\" in razbitje:\n",
    "            return \"DOMŽALE\"\n",
    "        if \"KRANJ\" in razbitje:\n",
    "            return \"KRANJ\"\n",
    "        if \"KAMNIK\" in razbitje:\n",
    "            return \"KAMNIK\"\n",
    "        if \"KOPER\" in razbitje:\n",
    "            return \"KOPER\"\n",
    "        if \"LJUBLJANA\" in razbitje:\n",
    "            return \"LJUBLJANA\"\n",
    "        if \"LJUBLJANA,\" in razbitje:\n",
    "            return \"LJUBLJANA\"\n",
    "        if \"LITIJA\" in razbitje:\n",
    "            return \"LITIJA\"\n",
    "        if \"LITIJI\" in razbitje:\n",
    "            return \"LITIJA\"\n",
    "        if \"MOZIRJE\" in razbitje:\n",
    "            return \"MOZIRJE\"\n",
    "        if \"MARIBOR\" in razbitje:\n",
    "            return \"MARIBOR\"\n",
    "        if \"NOVO\" in razbitje:\n",
    "            return \"NOVO-MESTO\"\n",
    "        if \"PTUJ\" in razbitje:\n",
    "            return \"PTUJ\"\n",
    "        if \"SAP\" in razbitje:\n",
    "            return \"ŠMARJE-SAP\"\n",
    "        if \"SLOVENJ\" in razbitje:\n",
    "            return \"SLOVENJ-GRADEC\"\n",
    "        if \"STARI\" in razbitje:\n",
    "            return \"STARI-VRH\"\n",
    "        if \"ŠTEPANJSKO\" in razbitje:\n",
    "            return \"LJUBLJANA\"\n",
    "        if \"ŠKOFJA\" in razbitje:\n",
    "            return \"ŠKOFJA-LOKA\"\n",
    "        if \"ŽIRI\" in razbitje:\n",
    "            return \"ŽIRI\"\n",
    "                \n",
    "    return x\n",
    "    \n",
    "def koliko_besed_je_v_imenu(x):\n",
    "    return len(x.split())"
   ]
  },
  {
   "cell_type": "code",
   "execution_count": 342,
   "metadata": {},
   "outputs": [],
   "source": [
    "podatki[\"boljsa_lokacija\"] = podatki[\"lokacija\"].apply(boljsa_lokacija)"
   ]
  },
  {
   "cell_type": "code",
   "execution_count": 343,
   "metadata": {},
   "outputs": [],
   "source": [
    "# podatki.groupby(\"boljsa_lokacija\").size()"
   ]
  },
  {
   "cell_type": "code",
   "execution_count": 344,
   "metadata": {},
   "outputs": [],
   "source": [
    "# podatki"
   ]
  },
  {
   "cell_type": "code",
   "execution_count": 345,
   "metadata": {},
   "outputs": [],
   "source": [
    "podatki.sort_values(\"boljsa_lokacija\")\n",
    "podatki[\"stevilo_besed\"] = podatki[\"boljsa_lokacija\"].apply(koliko_besed_je_v_imenu)\n"
   ]
  },
  {
   "cell_type": "code",
   "execution_count": 357,
   "metadata": {},
   "outputs": [
    {
     "data": {
      "text/plain": [
       "lokacija\n",
       "BENEDIKT V SLOVENSKIH GORICAH     1\n",
       "CELJE, LAŠKO, RIMSKE TOPLICE      1\n",
       "CESTA NA BRDO 28                  1\n",
       "DELO NA TERENU PO SLOVENIJI       1\n",
       "DOL PRI LJUBLJANI IN NA TERENU    1\n",
       "                                 ..\n",
       "SVETI JURIJ OB ŠČAVNICI           1\n",
       "TEPANJE ALI SLOVENSKE KONJICE     1\n",
       "TEREN - RAZLIČNE LOKACIJE         1\n",
       "VELIKA RAČNA 24 B                 1\n",
       "ZGORNJE GORJE - PODHOM            1\n",
       "Length: 41, dtype: int64"
      ]
     },
     "execution_count": 357,
     "metadata": {},
     "output_type": "execute_result"
    }
   ],
   "source": [
    "spemenit = podatki[\"stevilo_besed\"] > 3\n",
    "# podatki.groupby(\"stevilo_besed\").size()\n",
    "podatki[spemenit].groupby(\"lokacija\").size()\n"
   ]
  },
  {
   "cell_type": "code",
   "execution_count": 195,
   "metadata": {},
   "outputs": [],
   "source": [
    "#preimenoval sem imena stolpcev\n",
    "#podatki = podatki.rename({\"naslov\": \"Naslov\", \"podnaslov\": \"Podnaslov\", \"neto_placa\": \"Neto plača\",\n",
    "#                          \"bruto_placa\": \"Bruto plača\",\"lokacija\": \"Lokacija\", \"opis\": \"Opis\",\n",
    " #                         \"stevilo_mest\": \"Število mest\", \"trajanje\": \"Trajanje\", \"delovnik\": \"Delovnik\",\n",
    "  #                        \"sifra\": \"Šifra\", \"narava_dela\": \"Narava dela\"}, axis=1)"
   ]
  },
  {
   "cell_type": "code",
   "execution_count": 7,
   "metadata": {},
   "outputs": [],
   "source": [
    "#preimenoval sem imena stolpcev\n",
    "podatki = podatki.rename({\"neto_placa\": \"neto plača\",\n",
    "                          \"bruto_placa\": \"bruto plača\",\n",
    "                          \"stevilo_mest\": \"število mest\",\n",
    "                          \"sifra\": \"šifra\", \"narava_dela\": \"narava dela\"}, axis=1)"
   ]
  },
  {
   "cell_type": "code",
   "execution_count": 75,
   "metadata": {},
   "outputs": [
    {
     "data": {
      "text/plain": [
       "<matplotlib.axes._subplots.AxesSubplot at 0x2bf8f3f5ef0>"
      ]
     },
     "execution_count": 75,
     "metadata": {},
     "output_type": "execute_result"
    },
    {
     "data": {
      "image/png": "[encoded data removed]",
      "text/plain": [
       "<Figure size 432x288 with 1 Axes>"
      ]
     },
     "metadata": {
      "needs_background": "light"
     },
     "output_type": "display_data"
    }
   ],
   "source": [
    "stevilo = podatki.groupby(\"število mest\").size()\n",
    "stevilo.plot()"
   ]
  },
  {
   "cell_type": "code",
   "execution_count": 24,
   "metadata": {},
   "outputs": [],
   "source": [
    "# def razbitje_imen(x):\n",
    "#     if x == \"ŽIVALSKI VRT LJUBLJANA\":\n",
    "#         razbitje = \"LJUBLJANA\"\n",
    "#     else: \n",
    "#         razbitje = x.split()\n",
    "#     return razbitje[0]\n",
    "# def koliko_besed_je_v_imenu(x):\n",
    "#     return len(x.split())\n",
    "    "
   ]
  },
  {
   "cell_type": "code",
   "execution_count": 30,
   "metadata": {},
   "outputs": [],
   "source": [
    "# razbitje_imen(\"tra la la la la\")\n",
    "# razbitje = podatki[\"lokacija\"].apply(koliko_besed_je_v_imenu)\n"
   ]
  },
  {
   "cell_type": "code",
   "execution_count": 35,
   "metadata": {},
   "outputs": [],
   "source": [
    "# podatki[\"novo\"] = razbitje\n",
    "# podatki.groupby(\"lokacija\").size()"
   ]
  },
  {
   "cell_type": "code",
   "execution_count": 36,
   "metadata": {},
   "outputs": [
    {
     "data": {
      "text/html": [
       "<div>\n",
       "<style scoped>\n",
       "    .dataframe tbody tr th:only-of-type {\n",
       "        vertical-align: middle;\n",
       "    }\n",
       "\n",
       "    .dataframe tbody tr th {\n",
       "        vertical-align: top;\n",
       "    }\n",
       "\n",
       "    .dataframe thead th {\n",
       "        text-align: right;\n",
       "    }\n",
       "</style>\n",
       "<table border=\"1\" class=\"dataframe\">\n",
       "  <thead>\n",
       "    <tr style=\"text-align: right;\">\n",
       "      <th></th>\n",
       "      <th>naslov</th>\n",
       "      <th>opis</th>\n",
       "      <th>šifra</th>\n",
       "    </tr>\n",
       "  </thead>\n",
       "  <tbody>\n",
       "    <tr>\n",
       "      <th>0</th>\n",
       "      <td>PROGRAMIRANJE</td>\n",
       "      <td>Razvoj programske opreme na strani strežnika. ...</td>\n",
       "      <td>308948</td>\n",
       "    </tr>\n",
       "    <tr>\n",
       "      <th>1</th>\n",
       "      <td>DELJENJE LETAKOV</td>\n",
       "      <td>Deljenje letakov v okolici trgovine. Delovni č...</td>\n",
       "      <td>308947</td>\n",
       "    </tr>\n",
       "    <tr>\n",
       "      <th>2</th>\n",
       "      <td>PRODAJA</td>\n",
       "      <td>Prodaja v čokoladnici v stari Ljubljani. Podje...</td>\n",
       "      <td>308946</td>\n",
       "    </tr>\n",
       "    <tr>\n",
       "      <th>3</th>\n",
       "      <td>POMOČ UPORABNIKOM</td>\n",
       "      <td>Mlado in energično mednarodno podjetje išče os...</td>\n",
       "      <td>308945</td>\n",
       "    </tr>\n",
       "    <tr>\n",
       "      <th>4</th>\n",
       "      <td>BLAGAJNIK</td>\n",
       "      <td>Podjetje išče polnoletne, komunikativne in sam...</td>\n",
       "      <td>308944</td>\n",
       "    </tr>\n",
       "    <tr>\n",
       "      <th>...</th>\n",
       "      <td>...</td>\n",
       "      <td>...</td>\n",
       "      <td>...</td>\n",
       "    </tr>\n",
       "    <tr>\n",
       "      <th>3012</th>\n",
       "      <td>STREŽBA</td>\n",
       "      <td>Strežba v piceriji. Pogoji: starost nad 17 let...</td>\n",
       "      <td>239844</td>\n",
       "    </tr>\n",
       "    <tr>\n",
       "      <th>3013</th>\n",
       "      <td>STREŽBA</td>\n",
       "      <td>Zavod potrebuje več polnoletnih oseb za strežb...</td>\n",
       "      <td>239563</td>\n",
       "    </tr>\n",
       "    <tr>\n",
       "      <th>3014</th>\n",
       "      <td>PROGRAMIRANJE</td>\n",
       "      <td>Delo obsega programiranje WEB aplikacij. Potre...</td>\n",
       "      <td>236397</td>\n",
       "    </tr>\n",
       "    <tr>\n",
       "      <th>3015</th>\n",
       "      <td>STREŽBA</td>\n",
       "      <td>Iščejo polnoletno, prijazno, pošteno in urejen...</td>\n",
       "      <td>234805</td>\n",
       "    </tr>\n",
       "    <tr>\n",
       "      <th>3016</th>\n",
       "      <td>PROGRAMIRANJE</td>\n",
       "      <td>Iščejo Java programerje, ki bodo sodelovali z ...</td>\n",
       "      <td>225091</td>\n",
       "    </tr>\n",
       "  </tbody>\n",
       "</table>\n",
       "<p>3017 rows × 3 columns</p>\n",
       "</div>"
      ],
      "text/plain": [
       "                 naslov                                               opis  \\\n",
       "0         PROGRAMIRANJE  Razvoj programske opreme na strani strežnika. ...   \n",
       "1      DELJENJE LETAKOV  Deljenje letakov v okolici trgovine. Delovni č...   \n",
       "2               PRODAJA  Prodaja v čokoladnici v stari Ljubljani. Podje...   \n",
       "3     POMOČ UPORABNIKOM  Mlado in energično mednarodno podjetje išče os...   \n",
       "4             BLAGAJNIK  Podjetje išče polnoletne, komunikativne in sam...   \n",
       "...                 ...                                                ...   \n",
       "3012            STREŽBA  Strežba v piceriji. Pogoji: starost nad 17 let...   \n",
       "3013            STREŽBA  Zavod potrebuje več polnoletnih oseb za strežb...   \n",
       "3014      PROGRAMIRANJE  Delo obsega programiranje WEB aplikacij. Potre...   \n",
       "3015            STREŽBA  Iščejo polnoletno, prijazno, pošteno in urejen...   \n",
       "3016      PROGRAMIRANJE  Iščejo Java programerje, ki bodo sodelovali z ...   \n",
       "\n",
       "       šifra  \n",
       "0     308948  \n",
       "1     308947  \n",
       "2     308946  \n",
       "3     308945  \n",
       "4     308944  \n",
       "...      ...  \n",
       "3012  239844  \n",
       "3013  239563  \n",
       "3014  236397  \n",
       "3015  234805  \n",
       "3016  225091  \n",
       "\n",
       "[3017 rows x 3 columns]"
      ]
     },
     "execution_count": 36,
     "metadata": {},
     "output_type": "execute_result"
    }
   ],
   "source": [
    "podatki[[\"naslov\", \"opis\", \"šifra\"]]"
   ]
  }
 ],
 "metadata": {
  "kernelspec": {
   "display_name": "Python 3",
   "language": "python",
   "name": "python3"
  },
  "language_info": {
   "codemirror_mode": {
    "name": "ipython",
    "version": 3
   },
   "file_extension": ".py",
   "mimetype": "text/x-python",
   "name": "python",
   "nbconvert_exporter": "python",
   "pygments_lexer": "ipython3",
   "version": "3.6.4"
  }
 },
 "nbformat": 4,
 "nbformat_minor": 2
}
